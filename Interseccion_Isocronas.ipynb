{
 "cells": [
  {
   "cell_type": "code",
   "execution_count": 1,
   "id": "2203d05b-39a7-4497-95b7-313ba3bea0c0",
   "metadata": {},
   "outputs": [
    {
     "data": {
      "text/plain": [
       "'1.1.1'"
      ]
     },
     "execution_count": 1,
     "metadata": {},
     "output_type": "execute_result"
    }
   ],
   "source": [
    "import geopandas as gpd\n",
    "import matplotlib.pyplot as plt\n",
    "import networkx as nx\n",
    "import osmnx as ox\n",
    "from descartes import PolygonPatch\n",
    "from shapely.geometry import LineString\n",
    "from shapely.geometry import Point\n",
    "from shapely.geometry import Polygon\n",
    "import json\n",
    "\n",
    "%matplotlib inline\n",
    "ox.config(log_console=True)\n",
    "ox.__version__"
   ]
  },
  {
   "cell_type": "markdown",
   "id": "e47aceeb-741a-41db-94f0-07c2ff418033",
   "metadata": {},
   "source": [
    "## Objetos Propios"
   ]
  },
  {
   "cell_type": "markdown",
   "id": "a8360bb0-84c0-4038-a940-393101caf920",
   "metadata": {
    "tags": []
   },
   "source": [
    "### Isochrone Plots"
   ]
  },
  {
   "cell_type": "code",
   "execution_count": 2,
   "id": "39f0a02e-3ee5-4837-889a-df22b19e78f9",
   "metadata": {
    "jupyter": {
     "source_hidden": true
    },
    "tags": []
   },
   "outputs": [],
   "source": [
    "from networkx.classes.multidigraph import MultiDiGraph\n",
    "\n",
    "class IsochronePlots:\n",
    "    def __init__(self, trip_times: list):\n",
    "        self.trip_times = trip_times\n",
    "    \n",
    "    def colors(self) -> list:\n",
    "        self.colors = ox.plot.get_colors(\n",
    "            n=len(self.trip_times),\n",
    "            cmap=\"plasma\",\n",
    "            start=0,\n",
    "            return_hex=True)\n",
    "        return self.colors\n",
    "\n",
    "    def plot_node_isochrones(self,G: MultiDiGraph ,center_node: int) -> None:\n",
    "        node_colors = {}\n",
    "        for trip_time, color in zip(sorted(self.trip_times, reverse=True), self.colors):\n",
    "            subgraph = nx.ego_graph(G, center_node, radius=trip_time, distance=\"time\")\n",
    "            for node in subgraph.nodes():\n",
    "                node_colors[node] = color\n",
    "        node_colors = [node_colors[node] if node in node_colors else \"none\" for node in G.nodes()]\n",
    "        node_size = [15 if node in node_colors else 0 for node in G.nodes()]\n",
    "        return node_colors,node_size\n",
    "#         fig, ax = ox.plot_graph(\n",
    "#             G,\n",
    "#             node_color=nc,\n",
    "#             node_size=ns,\n",
    "#             node_alpha=0.8,\n",
    "#             edge_linewidth=0.2,\n",
    "#             edge_color=\"#999999\",\n",
    "#         )"
   ]
  },
  {
   "cell_type": "markdown",
   "id": "f5608d3b-b79a-45d8-a539-3d821d49645c",
   "metadata": {},
   "source": [
    "## GraphBuilder"
   ]
  },
  {
   "cell_type": "code",
   "execution_count": 3,
   "id": "237716ee-b041-461f-a3c5-d001de51ba74",
   "metadata": {
    "jupyter": {
     "source_hidden": true
    },
    "tags": []
   },
   "outputs": [],
   "source": [
    "class GraphBuilder:\n",
    "    def __init__(self, place, transportation_mode, travel_speed):\n",
    "        self.place = place\n",
    "        self.transportation_mode = transportation_mode\n",
    "        self.travel_speed = travel_speed # in km/h\n",
    "        self.graph = None\n",
    "\n",
    "    def initialize_graph(self):\n",
    "        self.graph = ox.graph_from_place(\n",
    "            self.place,\n",
    "            network_type=self.transportation_mode\n",
    "        )\n",
    "        return self.graph\n",
    "\n",
    "    def calculate_centroid(self):\n",
    "        gdf_nodes = ox.graph_to_gdfs(self.graph, edges=False)\n",
    "        x, y = gdf_nodes[\"geometry\"].unary_union.centroid.xy\n",
    "        center_node = ox.distance.nearest_nodes(self.graph, x[0], y[0])\n",
    "        return center_node\n",
    "        \n",
    "    def initialize_projected_graph(self):\n",
    "        self.projected_graph = ox.project_graph(self.graph)\n",
    "        meters_per_minute = self.travel_speed * 1000 / 60  # km per hour to m per minute\n",
    "        \n",
    "        for _, _, _, data in self.projected_graph.edges(data=True, keys=True):\n",
    "            data[\"time\"] = data[\"length\"] / meters_per_minute\n",
    "        \n",
    "        return self.projected_graph"
   ]
  },
  {
   "cell_type": "markdown",
   "id": "24435737-b181-42a3-835f-d493fa9c8b13",
   "metadata": {},
   "source": [
    "### IsochroneJsonDump"
   ]
  },
  {
   "cell_type": "code",
   "execution_count": 4,
   "id": "314234fc-9cef-47bf-9adf-d88b6b54435c",
   "metadata": {
    "jupyter": {
     "source_hidden": true
    },
    "tags": []
   },
   "outputs": [],
   "source": [
    "class IsochroneJsonDump:\n",
    "    \n",
    "    def __init__(self, node_colors, node_size):\n",
    "        self.node_colors = node_colors\n",
    "        self.node_size = node_size\n",
    "        \n",
    "    def serialize(self):\n",
    "        return {\"node_colors\":self.node_colors,\"node_size\":self.node_size}"
   ]
  },
  {
   "cell_type": "code",
   "execution_count": 5,
   "id": "e3ffb59c-6f84-46eb-8306-2ebca298c01f",
   "metadata": {},
   "outputs": [
    {
     "data": {
      "text/plain": [
       "<networkx.classes.multidigraph.MultiDiGraph at 0x20f89a16df0>"
      ]
     },
     "execution_count": 5,
     "metadata": {},
     "output_type": "execute_result"
    }
   ],
   "source": [
    "place = \"Buenos Aires, Argentina\"\n",
    "network_type = \"walk\"\n",
    "\n",
    "trip_times = [5, 10, 15, 30, 45, 60, 90]  # in minutes\n",
    "travel_speed = 4.5  # walking speed in km/hour\n",
    "\n",
    "graph_builder = GraphBuilder(place, network_type, travel_speed)\n",
    "graph_builder.initialize_graph()"
   ]
  },
  {
   "cell_type": "code",
   "execution_count": 6,
   "id": "5c698ced-f068-46a6-8f09-efd9a9f9d67c",
   "metadata": {},
   "outputs": [],
   "source": [
    "G = graph_builder.graph"
   ]
  },
  {
   "cell_type": "code",
   "execution_count": 7,
   "id": "b60857e6-da22-4325-9660-fd46a4d04d42",
   "metadata": {},
   "outputs": [],
   "source": [
    "center_node = graph_builder.calculate_centroid()\n",
    "projected_G = graph_builder.initialize_projected_graph()\n",
    "\n",
    "# get one color for each isochrone\n",
    "isochrone_plots = IsochronePlots(trip_times)\n",
    "\n",
    "iso_colors = isochrone_plots.colors()"
   ]
  },
  {
   "cell_type": "code",
   "execution_count": 8,
   "id": "7ad308e3-ea35-46d9-a7c9-13bfda3e3c4e",
   "metadata": {
    "tags": []
   },
   "outputs": [
    {
     "name": "stdout",
     "output_type": "stream",
     "text": [
      "113566\n",
      "35692\n",
      "113566\n"
     ]
    }
   ],
   "source": [
    "print(G.size())\n",
    "print(len(G.nodes))\n",
    "print(len(G.edges))\n",
    "with open(\"jsonDumpIsochrones.json\", \"w\") as archivo:\n",
    "    isochronesForAllNodes = {}\n",
    "    for i in list(G.nodes)[:3]:\n",
    "        node_colors, node_size = isochrone_plots.plot_node_isochrones(projected_G,i)\n",
    "        isochrones = IsochroneJsonDump(node_colors,node_size)\n",
    "        isochronesForAllNodes[i] = isochrones.serialize()\n",
    "    archivo.write(json.dumps(isochronesForAllNodes))"
   ]
  },
  {
   "cell_type": "code",
   "execution_count": null,
   "id": "025d45e8-6f0e-4308-baee-842bfad2a07c",
   "metadata": {
    "tags": []
   },
   "outputs": [],
   "source": [
    "#ox.distance.get_nearest_node() - Caro, ari me dijo que podiamos usar esto con las coordenadas de los parques\n",
    "#para tomar de referencia ese nodo como el nodo del parque"
   ]
  }
 ],
 "metadata": {
  "kernelspec": {
   "display_name": "Python 3",
   "language": "python",
   "name": "python3"
  },
  "language_info": {
   "codemirror_mode": {
    "name": "ipython",
    "version": 3
   },
   "file_extension": ".py",
   "mimetype": "text/x-python",
   "name": "python",
   "nbconvert_exporter": "python",
   "pygments_lexer": "ipython3",
   "version": "3.8.8"
  }
 },
 "nbformat": 4,
 "nbformat_minor": 5
}
